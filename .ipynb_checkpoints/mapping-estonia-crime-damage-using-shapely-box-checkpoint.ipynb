{
 "cells": [
  {
   "cell_type": "markdown",
   "id": "63b7e30a",
   "metadata": {
    "papermill": {
     "duration": 0.019489,
     "end_time": "2021-11-17T14:30:29.556720",
     "exception": false,
     "start_time": "2021-11-17T14:30:29.537231",
     "status": "completed"
    },
    "tags": []
   },
   "source": [
    "**This Notebook intended to visualize amount of damage caused by crime activity in Estonia. Every square is 500m x 500m or 1km x 1km.**"
   ]
  },
  {
   "cell_type": "code",
   "execution_count": 1,
   "id": "c2163a19",
   "metadata": {
    "execution": {
     "iopub.execute_input": "2021-11-17T14:30:29.607061Z",
     "iopub.status.busy": "2021-11-17T14:30:29.606373Z",
     "iopub.status.idle": "2021-11-17T14:30:30.201410Z",
     "shell.execute_reply": "2021-11-17T14:30:30.202014Z",
     "shell.execute_reply.started": "2021-11-16T11:50:48.430853Z"
    },
    "papermill": {
     "duration": 0.624457,
     "end_time": "2021-11-17T14:30:30.202350",
     "exception": false,
     "start_time": "2021-11-17T14:30:29.577893",
     "status": "completed"
    },
    "tags": []
   },
   "outputs": [],
   "source": [
    "import pandas as pd\n",
    "import numpy as np\n",
    "import geopandas as gpd\n",
    "import matplotlib.pyplot as plt\n",
    "import shapely\n",
    "#import requests\n",
    "from shapely.geometry import box\n",
    "from shapely.ops import unary_union\n"
   ]
  },
  {
   "cell_type": "markdown",
   "id": "056f0d28",
   "metadata": {
    "papermill": {
     "duration": 0.019881,
     "end_time": "2021-11-17T14:30:30.244346",
     "exception": false,
     "start_time": "2021-11-17T14:30:30.224465",
     "status": "completed"
    },
    "tags": []
   },
   "source": [
    "**source of crime data**\n",
    "\n",
    "\n",
    "\n",
    "data_url = \"https://opendata.smit.ee/ppa/csv/avalik_3.csv\"\n",
    "\n",
    "save_file_name = \"avalik_3.csv\"\n",
    "\n",
    "response = requests.get(data_url)\n",
    "\n",
    "with open(save_file_name, 'wb') as f:\n",
    "    f.write(response.content)"
   ]
  },
  {
   "cell_type": "markdown",
   "id": "5cf08502",
   "metadata": {
    "papermill": {
     "duration": 0.017813,
     "end_time": "2021-11-17T14:30:30.280264",
     "exception": false,
     "start_time": "2021-11-17T14:30:30.262451",
     "status": "completed"
    },
    "tags": []
   },
   "source": [
    "**read the data, trim the space and set None value to Numpy NaN**"
   ]
  },
  {
   "cell_type": "code",
   "execution_count": 2,
   "id": "083c4e98",
   "metadata": {
    "execution": {
     "iopub.execute_input": "2021-11-17T14:30:30.321003Z",
     "iopub.status.busy": "2021-11-17T14:30:30.320337Z",
     "iopub.status.idle": "2021-11-17T14:30:31.553045Z",
     "shell.execute_reply": "2021-11-17T14:30:31.553825Z",
     "shell.execute_reply.started": "2021-11-16T11:50:48.440957Z"
    },
    "papermill": {
     "duration": 1.255513,
     "end_time": "2021-11-17T14:30:31.554085",
     "exception": false,
     "start_time": "2021-11-17T14:30:30.298572",
     "status": "completed"
    },
    "tags": []
   },
   "outputs": [
    {
     "data": {
      "text/plain": [
       "Harju maakond         41384\n",
       "Ida-Viru maakond       3524\n",
       "Tartu maakond          1808\n",
       "Pärnu maakond           923\n",
       "Lääne-Viru maakond      886\n",
       "Valga maakond           586\n",
       "Saare maakond           458\n",
       "Viljandi maakond        378\n",
       "Põlva maakond           321\n",
       "Järva maakond           312\n",
       "Jõgeva maakond          300\n",
       "Rapla maakond           295\n",
       "Võru maakond            283\n",
       "Lääne maakond           171\n",
       "Hiiu maakond            132\n",
       "Name: MaakondNimetus, dtype: int64"
      ]
     },
     "execution_count": 2,
     "metadata": {},
     "output_type": "execute_result"
    }
   ],
   "source": [
    "df = pd.read_table('../input/crime-data-estonia/avalik_3.csv').apply(lambda col: col.str.strip())\n",
    "df[df == \"\"] = np.nan\n",
    "\n",
    "df.head(5)\n",
    "df['MaakondNimetus'].value_counts()"
   ]
  },
  {
   "cell_type": "markdown",
   "id": "29fe2203",
   "metadata": {
    "papermill": {
     "duration": 0.018193,
     "end_time": "2021-11-17T14:30:31.591998",
     "exception": false,
     "start_time": "2021-11-17T14:30:31.573805",
     "status": "completed"
    },
    "tags": []
   },
   "source": [
    "**filter the colom that we use 'Kahjusumma' mean amount of damage, 'Lest_X' and 'Lest_Y' is the coordinate (EPSG:3301)**"
   ]
  },
  {
   "cell_type": "code",
   "execution_count": 3,
   "id": "3e410dfb",
   "metadata": {
    "execution": {
     "iopub.execute_input": "2021-11-17T14:30:31.644819Z",
     "iopub.status.busy": "2021-11-17T14:30:31.644129Z",
     "iopub.status.idle": "2021-11-17T14:30:31.656102Z",
     "shell.execute_reply": "2021-11-17T14:30:31.655440Z",
     "shell.execute_reply.started": "2021-11-16T11:50:49.376102Z"
    },
    "papermill": {
     "duration": 0.045646,
     "end_time": "2021-11-17T14:30:31.656240",
     "exception": false,
     "start_time": "2021-11-17T14:30:31.610594",
     "status": "completed"
    },
    "tags": []
   },
   "outputs": [
    {
     "data": {
      "text/html": [
       "<div>\n",
       "<style scoped>\n",
       "    .dataframe tbody tr th:only-of-type {\n",
       "        vertical-align: middle;\n",
       "    }\n",
       "\n",
       "    .dataframe tbody tr th {\n",
       "        vertical-align: top;\n",
       "    }\n",
       "\n",
       "    .dataframe thead th {\n",
       "        text-align: right;\n",
       "    }\n",
       "</style>\n",
       "<table border=\"1\" class=\"dataframe\">\n",
       "  <thead>\n",
       "    <tr style=\"text-align: right;\">\n",
       "      <th></th>\n",
       "      <th>Kahjusumma</th>\n",
       "      <th>Lest_X</th>\n",
       "      <th>Lest_Y</th>\n",
       "    </tr>\n",
       "  </thead>\n",
       "  <tbody>\n",
       "    <tr>\n",
       "      <th>0</th>\n",
       "      <td>0-499</td>\n",
       "      <td>6474000-6474499</td>\n",
       "      <td>658500-658999</td>\n",
       "    </tr>\n",
       "    <tr>\n",
       "      <th>1</th>\n",
       "      <td>0-499</td>\n",
       "      <td>6589000-6589499</td>\n",
       "      <td>542000-542499</td>\n",
       "    </tr>\n",
       "    <tr>\n",
       "      <th>2</th>\n",
       "      <td>0-499</td>\n",
       "      <td>6588000-6588499</td>\n",
       "      <td>540000-540499</td>\n",
       "    </tr>\n",
       "    <tr>\n",
       "      <th>3</th>\n",
       "      <td>500-4999</td>\n",
       "      <td>6588000-6588499</td>\n",
       "      <td>542000-542499</td>\n",
       "    </tr>\n",
       "    <tr>\n",
       "      <th>4</th>\n",
       "      <td>0-499</td>\n",
       "      <td>6588500-6588999</td>\n",
       "      <td>542000-542499</td>\n",
       "    </tr>\n",
       "  </tbody>\n",
       "</table>\n",
       "</div>"
      ],
      "text/plain": [
       "  Kahjusumma           Lest_X         Lest_Y\n",
       "0      0-499  6474000-6474499  658500-658999\n",
       "1      0-499  6589000-6589499  542000-542499\n",
       "2      0-499  6588000-6588499  540000-540499\n",
       "3   500-4999  6588000-6588499  542000-542499\n",
       "4      0-499  6588500-6588999  542000-542499"
      ]
     },
     "execution_count": 3,
     "metadata": {},
     "output_type": "execute_result"
    }
   ],
   "source": [
    "df = df[['Kahjusumma', 'Lest_X', 'Lest_Y']]\n",
    "df.head()\n"
   ]
  },
  {
   "cell_type": "markdown",
   "id": "9c264f91",
   "metadata": {
    "papermill": {
     "duration": 0.018487,
     "end_time": "2021-11-17T14:30:31.693617",
     "exception": false,
     "start_time": "2021-11-17T14:30:31.675130",
     "status": "completed"
    },
    "tags": []
   },
   "source": [
    "**Split the coordinat point**"
   ]
  },
  {
   "cell_type": "code",
   "execution_count": 4,
   "id": "9aba2cd3",
   "metadata": {
    "execution": {
     "iopub.execute_input": "2021-11-17T14:30:31.734703Z",
     "iopub.status.busy": "2021-11-17T14:30:31.734067Z",
     "iopub.status.idle": "2021-11-17T14:30:32.005759Z",
     "shell.execute_reply": "2021-11-17T14:30:32.005044Z",
     "shell.execute_reply.started": "2021-11-16T11:50:49.392828Z"
    },
    "papermill": {
     "duration": 0.293652,
     "end_time": "2021-11-17T14:30:32.005929",
     "exception": false,
     "start_time": "2021-11-17T14:30:31.712277",
     "status": "completed"
    },
    "tags": []
   },
   "outputs": [
    {
     "data": {
      "text/html": [
       "<div>\n",
       "<style scoped>\n",
       "    .dataframe tbody tr th:only-of-type {\n",
       "        vertical-align: middle;\n",
       "    }\n",
       "\n",
       "    .dataframe tbody tr th {\n",
       "        vertical-align: top;\n",
       "    }\n",
       "\n",
       "    .dataframe thead th {\n",
       "        text-align: right;\n",
       "    }\n",
       "</style>\n",
       "<table border=\"1\" class=\"dataframe\">\n",
       "  <thead>\n",
       "    <tr style=\"text-align: right;\">\n",
       "      <th></th>\n",
       "      <th>Kahjusumma</th>\n",
       "      <th>Lest_X</th>\n",
       "      <th>Lest_Y</th>\n",
       "      <th>Long</th>\n",
       "      <th>Lat</th>\n",
       "    </tr>\n",
       "  </thead>\n",
       "  <tbody>\n",
       "    <tr>\n",
       "      <th>0</th>\n",
       "      <td>0-499</td>\n",
       "      <td>6474000-6474499</td>\n",
       "      <td>658500-658999</td>\n",
       "      <td>[6474000, 6474499]</td>\n",
       "      <td>[658500, 658999]</td>\n",
       "    </tr>\n",
       "    <tr>\n",
       "      <th>1</th>\n",
       "      <td>0-499</td>\n",
       "      <td>6589000-6589499</td>\n",
       "      <td>542000-542499</td>\n",
       "      <td>[6589000, 6589499]</td>\n",
       "      <td>[542000, 542499]</td>\n",
       "    </tr>\n",
       "    <tr>\n",
       "      <th>2</th>\n",
       "      <td>0-499</td>\n",
       "      <td>6588000-6588499</td>\n",
       "      <td>540000-540499</td>\n",
       "      <td>[6588000, 6588499]</td>\n",
       "      <td>[540000, 540499]</td>\n",
       "    </tr>\n",
       "    <tr>\n",
       "      <th>3</th>\n",
       "      <td>500-4999</td>\n",
       "      <td>6588000-6588499</td>\n",
       "      <td>542000-542499</td>\n",
       "      <td>[6588000, 6588499]</td>\n",
       "      <td>[542000, 542499]</td>\n",
       "    </tr>\n",
       "    <tr>\n",
       "      <th>4</th>\n",
       "      <td>0-499</td>\n",
       "      <td>6588500-6588999</td>\n",
       "      <td>542000-542499</td>\n",
       "      <td>[6588500, 6588999]</td>\n",
       "      <td>[542000, 542499]</td>\n",
       "    </tr>\n",
       "  </tbody>\n",
       "</table>\n",
       "</div>"
      ],
      "text/plain": [
       "  Kahjusumma           Lest_X         Lest_Y                Long  \\\n",
       "0      0-499  6474000-6474499  658500-658999  [6474000, 6474499]   \n",
       "1      0-499  6589000-6589499  542000-542499  [6589000, 6589499]   \n",
       "2      0-499  6588000-6588499  540000-540499  [6588000, 6588499]   \n",
       "3   500-4999  6588000-6588499  542000-542499  [6588000, 6588499]   \n",
       "4      0-499  6588500-6588999  542000-542499  [6588500, 6588999]   \n",
       "\n",
       "                Lat  \n",
       "0  [658500, 658999]  \n",
       "1  [542000, 542499]  \n",
       "2  [540000, 540499]  \n",
       "3  [542000, 542499]  \n",
       "4  [542000, 542499]  "
      ]
     },
     "execution_count": 4,
     "metadata": {},
     "output_type": "execute_result"
    }
   ],
   "source": [
    "df['Long'] = df['Lest_X'].str.split('-')\n",
    "df['Lat'] = df['Lest_Y'].str.split('-')\n",
    "\n",
    "df.head()"
   ]
  },
  {
   "cell_type": "markdown",
   "id": "445d1548",
   "metadata": {
    "papermill": {
     "duration": 0.019312,
     "end_time": "2021-11-17T14:30:32.045109",
     "exception": false,
     "start_time": "2021-11-17T14:30:32.025797",
     "status": "completed"
    },
    "tags": []
   },
   "source": [
    "**'Lest_X' is latitude which is y-axis (split the point coordinat)**"
   ]
  },
  {
   "cell_type": "code",
   "execution_count": 5,
   "id": "5abed4f4",
   "metadata": {
    "execution": {
     "iopub.execute_input": "2021-11-17T14:30:32.088635Z",
     "iopub.status.busy": "2021-11-17T14:30:32.087952Z",
     "iopub.status.idle": "2021-11-17T14:30:32.423968Z",
     "shell.execute_reply": "2021-11-17T14:30:32.424471Z",
     "shell.execute_reply.started": "2021-11-16T11:50:49.50385Z"
    },
    "papermill": {
     "duration": 0.359611,
     "end_time": "2021-11-17T14:30:32.424689",
     "exception": false,
     "start_time": "2021-11-17T14:30:32.065078",
     "status": "completed"
    },
    "tags": []
   },
   "outputs": [
    {
     "data": {
      "text/html": [
       "<div>\n",
       "<style scoped>\n",
       "    .dataframe tbody tr th:only-of-type {\n",
       "        vertical-align: middle;\n",
       "    }\n",
       "\n",
       "    .dataframe tbody tr th {\n",
       "        vertical-align: top;\n",
       "    }\n",
       "\n",
       "    .dataframe thead th {\n",
       "        text-align: right;\n",
       "    }\n",
       "</style>\n",
       "<table border=\"1\" class=\"dataframe\">\n",
       "  <thead>\n",
       "    <tr style=\"text-align: right;\">\n",
       "      <th></th>\n",
       "      <th>Kahjusumma</th>\n",
       "      <th>Lest_X</th>\n",
       "      <th>Lest_Y</th>\n",
       "      <th>Long</th>\n",
       "      <th>Lat</th>\n",
       "      <th>min_y</th>\n",
       "      <th>max_y</th>\n",
       "    </tr>\n",
       "  </thead>\n",
       "  <tbody>\n",
       "    <tr>\n",
       "      <th>0</th>\n",
       "      <td>0-499</td>\n",
       "      <td>6474000-6474499</td>\n",
       "      <td>658500-658999</td>\n",
       "      <td>[6474000, 6474499]</td>\n",
       "      <td>[658500, 658999]</td>\n",
       "      <td>6474000.0</td>\n",
       "      <td>6474499.0</td>\n",
       "    </tr>\n",
       "    <tr>\n",
       "      <th>1</th>\n",
       "      <td>0-499</td>\n",
       "      <td>6589000-6589499</td>\n",
       "      <td>542000-542499</td>\n",
       "      <td>[6589000, 6589499]</td>\n",
       "      <td>[542000, 542499]</td>\n",
       "      <td>6589000.0</td>\n",
       "      <td>6589499.0</td>\n",
       "    </tr>\n",
       "    <tr>\n",
       "      <th>2</th>\n",
       "      <td>0-499</td>\n",
       "      <td>6588000-6588499</td>\n",
       "      <td>540000-540499</td>\n",
       "      <td>[6588000, 6588499]</td>\n",
       "      <td>[540000, 540499]</td>\n",
       "      <td>6588000.0</td>\n",
       "      <td>6588499.0</td>\n",
       "    </tr>\n",
       "    <tr>\n",
       "      <th>3</th>\n",
       "      <td>500-4999</td>\n",
       "      <td>6588000-6588499</td>\n",
       "      <td>542000-542499</td>\n",
       "      <td>[6588000, 6588499]</td>\n",
       "      <td>[542000, 542499]</td>\n",
       "      <td>6588000.0</td>\n",
       "      <td>6588499.0</td>\n",
       "    </tr>\n",
       "    <tr>\n",
       "      <th>4</th>\n",
       "      <td>0-499</td>\n",
       "      <td>6588500-6588999</td>\n",
       "      <td>542000-542499</td>\n",
       "      <td>[6588500, 6588999]</td>\n",
       "      <td>[542000, 542499]</td>\n",
       "      <td>6588500.0</td>\n",
       "      <td>6588999.0</td>\n",
       "    </tr>\n",
       "  </tbody>\n",
       "</table>\n",
       "</div>"
      ],
      "text/plain": [
       "  Kahjusumma           Lest_X         Lest_Y                Long  \\\n",
       "0      0-499  6474000-6474499  658500-658999  [6474000, 6474499]   \n",
       "1      0-499  6589000-6589499  542000-542499  [6589000, 6589499]   \n",
       "2      0-499  6588000-6588499  540000-540499  [6588000, 6588499]   \n",
       "3   500-4999  6588000-6588499  542000-542499  [6588000, 6588499]   \n",
       "4      0-499  6588500-6588999  542000-542499  [6588500, 6588999]   \n",
       "\n",
       "                Lat      min_y      max_y  \n",
       "0  [658500, 658999]  6474000.0  6474499.0  \n",
       "1  [542000, 542499]  6589000.0  6589499.0  \n",
       "2  [540000, 540499]  6588000.0  6588499.0  \n",
       "3  [542000, 542499]  6588000.0  6588499.0  \n",
       "4  [542000, 542499]  6588500.0  6588999.0  "
      ]
     },
     "execution_count": 5,
     "metadata": {},
     "output_type": "execute_result"
    }
   ],
   "source": [
    "df[['min_y', 'max_y']] = df['Lest_X'].str.split('-', expand=True)\n",
    "df['min_y'] = pd.to_numeric(df['min_y'], errors='coerce')\n",
    "df['max_y'] = pd.to_numeric(df['max_y'], errors='coerce')\n",
    "\n",
    "df.head()"
   ]
  },
  {
   "cell_type": "markdown",
   "id": "c6e493dd",
   "metadata": {
    "papermill": {
     "duration": 0.019788,
     "end_time": "2021-11-17T14:30:32.465130",
     "exception": false,
     "start_time": "2021-11-17T14:30:32.445342",
     "status": "completed"
    },
    "tags": []
   },
   "source": [
    "**'Lest_Y' is longitude which is x-axis (split the point coordinat)**"
   ]
  },
  {
   "cell_type": "code",
   "execution_count": 6,
   "id": "bc6024b3",
   "metadata": {
    "execution": {
     "iopub.execute_input": "2021-11-17T14:30:32.524967Z",
     "iopub.status.busy": "2021-11-17T14:30:32.517434Z",
     "iopub.status.idle": "2021-11-17T14:30:32.734925Z",
     "shell.execute_reply": "2021-11-17T14:30:32.734270Z",
     "shell.execute_reply.started": "2021-11-16T11:50:49.713163Z"
    },
    "papermill": {
     "duration": 0.249795,
     "end_time": "2021-11-17T14:30:32.735075",
     "exception": false,
     "start_time": "2021-11-17T14:30:32.485280",
     "status": "completed"
    },
    "tags": []
   },
   "outputs": [
    {
     "data": {
      "text/html": [
       "<div>\n",
       "<style scoped>\n",
       "    .dataframe tbody tr th:only-of-type {\n",
       "        vertical-align: middle;\n",
       "    }\n",
       "\n",
       "    .dataframe tbody tr th {\n",
       "        vertical-align: top;\n",
       "    }\n",
       "\n",
       "    .dataframe thead th {\n",
       "        text-align: right;\n",
       "    }\n",
       "</style>\n",
       "<table border=\"1\" class=\"dataframe\">\n",
       "  <thead>\n",
       "    <tr style=\"text-align: right;\">\n",
       "      <th></th>\n",
       "      <th>Kahjusumma</th>\n",
       "      <th>Lest_X</th>\n",
       "      <th>Lest_Y</th>\n",
       "      <th>Long</th>\n",
       "      <th>Lat</th>\n",
       "      <th>min_y</th>\n",
       "      <th>max_y</th>\n",
       "      <th>min_x</th>\n",
       "      <th>max_x</th>\n",
       "    </tr>\n",
       "  </thead>\n",
       "  <tbody>\n",
       "    <tr>\n",
       "      <th>0</th>\n",
       "      <td>0-499</td>\n",
       "      <td>6474000-6474499</td>\n",
       "      <td>658500-658999</td>\n",
       "      <td>[6474000, 6474499]</td>\n",
       "      <td>[658500, 658999]</td>\n",
       "      <td>6474000.0</td>\n",
       "      <td>6474499.0</td>\n",
       "      <td>658500.0</td>\n",
       "      <td>658999.0</td>\n",
       "    </tr>\n",
       "    <tr>\n",
       "      <th>1</th>\n",
       "      <td>0-499</td>\n",
       "      <td>6589000-6589499</td>\n",
       "      <td>542000-542499</td>\n",
       "      <td>[6589000, 6589499]</td>\n",
       "      <td>[542000, 542499]</td>\n",
       "      <td>6589000.0</td>\n",
       "      <td>6589499.0</td>\n",
       "      <td>542000.0</td>\n",
       "      <td>542499.0</td>\n",
       "    </tr>\n",
       "    <tr>\n",
       "      <th>2</th>\n",
       "      <td>0-499</td>\n",
       "      <td>6588000-6588499</td>\n",
       "      <td>540000-540499</td>\n",
       "      <td>[6588000, 6588499]</td>\n",
       "      <td>[540000, 540499]</td>\n",
       "      <td>6588000.0</td>\n",
       "      <td>6588499.0</td>\n",
       "      <td>540000.0</td>\n",
       "      <td>540499.0</td>\n",
       "    </tr>\n",
       "    <tr>\n",
       "      <th>3</th>\n",
       "      <td>500-4999</td>\n",
       "      <td>6588000-6588499</td>\n",
       "      <td>542000-542499</td>\n",
       "      <td>[6588000, 6588499]</td>\n",
       "      <td>[542000, 542499]</td>\n",
       "      <td>6588000.0</td>\n",
       "      <td>6588499.0</td>\n",
       "      <td>542000.0</td>\n",
       "      <td>542499.0</td>\n",
       "    </tr>\n",
       "    <tr>\n",
       "      <th>4</th>\n",
       "      <td>0-499</td>\n",
       "      <td>6588500-6588999</td>\n",
       "      <td>542000-542499</td>\n",
       "      <td>[6588500, 6588999]</td>\n",
       "      <td>[542000, 542499]</td>\n",
       "      <td>6588500.0</td>\n",
       "      <td>6588999.0</td>\n",
       "      <td>542000.0</td>\n",
       "      <td>542499.0</td>\n",
       "    </tr>\n",
       "  </tbody>\n",
       "</table>\n",
       "</div>"
      ],
      "text/plain": [
       "  Kahjusumma           Lest_X         Lest_Y                Long  \\\n",
       "0      0-499  6474000-6474499  658500-658999  [6474000, 6474499]   \n",
       "1      0-499  6589000-6589499  542000-542499  [6589000, 6589499]   \n",
       "2      0-499  6588000-6588499  540000-540499  [6588000, 6588499]   \n",
       "3   500-4999  6588000-6588499  542000-542499  [6588000, 6588499]   \n",
       "4      0-499  6588500-6588999  542000-542499  [6588500, 6588999]   \n",
       "\n",
       "                Lat      min_y      max_y     min_x     max_x  \n",
       "0  [658500, 658999]  6474000.0  6474499.0  658500.0  658999.0  \n",
       "1  [542000, 542499]  6589000.0  6589499.0  542000.0  542499.0  \n",
       "2  [540000, 540499]  6588000.0  6588499.0  540000.0  540499.0  \n",
       "3  [542000, 542499]  6588000.0  6588499.0  542000.0  542499.0  \n",
       "4  [542000, 542499]  6588500.0  6588999.0  542000.0  542499.0  "
      ]
     },
     "execution_count": 6,
     "metadata": {},
     "output_type": "execute_result"
    }
   ],
   "source": [
    "df[['min_x', 'max_x']] = df['Lest_Y'].str.split('-', expand=True)\n",
    "df['min_x'] = pd.to_numeric(df['min_x'], errors='coerce')\n",
    "df['max_x'] = pd.to_numeric(df['max_x'], errors='coerce')\n",
    "\n",
    "df.head()"
   ]
  },
  {
   "cell_type": "markdown",
   "id": "191e8c8f",
   "metadata": {
    "papermill": {
     "duration": 0.021084,
     "end_time": "2021-11-17T14:30:32.776393",
     "exception": false,
     "start_time": "2021-11-17T14:30:32.755309",
     "status": "completed"
    },
    "tags": []
   },
   "source": [
    "**drop empty values create empty array and fill it with box polygon and save it to new column 'geometry'**"
   ]
  },
  {
   "cell_type": "code",
   "execution_count": 7,
   "id": "d0939f88",
   "metadata": {
    "execution": {
     "iopub.execute_input": "2021-11-17T14:30:32.821443Z",
     "iopub.status.busy": "2021-11-17T14:30:32.820801Z",
     "iopub.status.idle": "2021-11-17T14:30:37.343113Z",
     "shell.execute_reply": "2021-11-17T14:30:37.342402Z",
     "shell.execute_reply.started": "2021-11-16T11:50:49.926562Z"
    },
    "papermill": {
     "duration": 4.546334,
     "end_time": "2021-11-17T14:30:37.343273",
     "exception": false,
     "start_time": "2021-11-17T14:30:32.796939",
     "status": "completed"
    },
    "tags": []
   },
   "outputs": [
    {
     "data": {
      "text/html": [
       "<div>\n",
       "<style scoped>\n",
       "    .dataframe tbody tr th:only-of-type {\n",
       "        vertical-align: middle;\n",
       "    }\n",
       "\n",
       "    .dataframe tbody tr th {\n",
       "        vertical-align: top;\n",
       "    }\n",
       "\n",
       "    .dataframe thead th {\n",
       "        text-align: right;\n",
       "    }\n",
       "</style>\n",
       "<table border=\"1\" class=\"dataframe\">\n",
       "  <thead>\n",
       "    <tr style=\"text-align: right;\">\n",
       "      <th></th>\n",
       "      <th>Kahjusumma</th>\n",
       "      <th>Lest_X</th>\n",
       "      <th>Lest_Y</th>\n",
       "      <th>Long</th>\n",
       "      <th>Lat</th>\n",
       "      <th>min_y</th>\n",
       "      <th>max_y</th>\n",
       "      <th>min_x</th>\n",
       "      <th>max_x</th>\n",
       "      <th>geometry</th>\n",
       "    </tr>\n",
       "  </thead>\n",
       "  <tbody>\n",
       "    <tr>\n",
       "      <th>0</th>\n",
       "      <td>0-499</td>\n",
       "      <td>6474000-6474499</td>\n",
       "      <td>658500-658999</td>\n",
       "      <td>[6474000, 6474499]</td>\n",
       "      <td>[658500, 658999]</td>\n",
       "      <td>6474000.0</td>\n",
       "      <td>6474499.0</td>\n",
       "      <td>658500.0</td>\n",
       "      <td>658999.0</td>\n",
       "      <td>POLYGON ((658999 6474000, 658999 6474499, 6585...</td>\n",
       "    </tr>\n",
       "    <tr>\n",
       "      <th>1</th>\n",
       "      <td>0-499</td>\n",
       "      <td>6589000-6589499</td>\n",
       "      <td>542000-542499</td>\n",
       "      <td>[6589000, 6589499]</td>\n",
       "      <td>[542000, 542499]</td>\n",
       "      <td>6589000.0</td>\n",
       "      <td>6589499.0</td>\n",
       "      <td>542000.0</td>\n",
       "      <td>542499.0</td>\n",
       "      <td>POLYGON ((542499 6589000, 542499 6589499, 5420...</td>\n",
       "    </tr>\n",
       "    <tr>\n",
       "      <th>2</th>\n",
       "      <td>0-499</td>\n",
       "      <td>6588000-6588499</td>\n",
       "      <td>540000-540499</td>\n",
       "      <td>[6588000, 6588499]</td>\n",
       "      <td>[540000, 540499]</td>\n",
       "      <td>6588000.0</td>\n",
       "      <td>6588499.0</td>\n",
       "      <td>540000.0</td>\n",
       "      <td>540499.0</td>\n",
       "      <td>POLYGON ((540499 6588000, 540499 6588499, 5400...</td>\n",
       "    </tr>\n",
       "    <tr>\n",
       "      <th>3</th>\n",
       "      <td>500-4999</td>\n",
       "      <td>6588000-6588499</td>\n",
       "      <td>542000-542499</td>\n",
       "      <td>[6588000, 6588499]</td>\n",
       "      <td>[542000, 542499]</td>\n",
       "      <td>6588000.0</td>\n",
       "      <td>6588499.0</td>\n",
       "      <td>542000.0</td>\n",
       "      <td>542499.0</td>\n",
       "      <td>POLYGON ((542499 6588000, 542499 6588499, 5420...</td>\n",
       "    </tr>\n",
       "    <tr>\n",
       "      <th>4</th>\n",
       "      <td>0-499</td>\n",
       "      <td>6588500-6588999</td>\n",
       "      <td>542000-542499</td>\n",
       "      <td>[6588500, 6588999]</td>\n",
       "      <td>[542000, 542499]</td>\n",
       "      <td>6588500.0</td>\n",
       "      <td>6588999.0</td>\n",
       "      <td>542000.0</td>\n",
       "      <td>542499.0</td>\n",
       "      <td>POLYGON ((542499 6588500, 542499 6588999, 5420...</td>\n",
       "    </tr>\n",
       "  </tbody>\n",
       "</table>\n",
       "</div>"
      ],
      "text/plain": [
       "  Kahjusumma           Lest_X         Lest_Y                Long  \\\n",
       "0      0-499  6474000-6474499  658500-658999  [6474000, 6474499]   \n",
       "1      0-499  6589000-6589499  542000-542499  [6589000, 6589499]   \n",
       "2      0-499  6588000-6588499  540000-540499  [6588000, 6588499]   \n",
       "3   500-4999  6588000-6588499  542000-542499  [6588000, 6588499]   \n",
       "4      0-499  6588500-6588999  542000-542499  [6588500, 6588999]   \n",
       "\n",
       "                Lat      min_y      max_y     min_x     max_x  \\\n",
       "0  [658500, 658999]  6474000.0  6474499.0  658500.0  658999.0   \n",
       "1  [542000, 542499]  6589000.0  6589499.0  542000.0  542499.0   \n",
       "2  [540000, 540499]  6588000.0  6588499.0  540000.0  540499.0   \n",
       "3  [542000, 542499]  6588000.0  6588499.0  542000.0  542499.0   \n",
       "4  [542000, 542499]  6588500.0  6588999.0  542000.0  542499.0   \n",
       "\n",
       "                                            geometry  \n",
       "0  POLYGON ((658999 6474000, 658999 6474499, 6585...  \n",
       "1  POLYGON ((542499 6589000, 542499 6589499, 5420...  \n",
       "2  POLYGON ((540499 6588000, 540499 6588499, 5400...  \n",
       "3  POLYGON ((542499 6588000, 542499 6588499, 5420...  \n",
       "4  POLYGON ((542499 6588500, 542499 6588999, 5420...  "
      ]
     },
     "execution_count": 7,
     "metadata": {},
     "output_type": "execute_result"
    }
   ],
   "source": [
    "df = df.dropna(subset=['min_x'])\n",
    "bx = []\n",
    "for index, i in df.iterrows():\n",
    "    b = box(i['min_x'], i['min_y'], i['max_x'], i['max_y'])\n",
    "    bx.append(b)\n",
    "\n",
    "df['geometry'] = bx\n",
    "\n",
    "df.head()"
   ]
  },
  {
   "cell_type": "markdown",
   "id": "b18696fc",
   "metadata": {
    "papermill": {
     "duration": 0.020655,
     "end_time": "2021-11-17T14:30:37.385299",
     "exception": false,
     "start_time": "2021-11-17T14:30:37.364644",
     "status": "completed"
    },
    "tags": []
   },
   "source": [
    "**because the data is range value we choose the median for easy way**"
   ]
  },
  {
   "cell_type": "code",
   "execution_count": 8,
   "id": "1f037665",
   "metadata": {
    "execution": {
     "iopub.execute_input": "2021-11-17T14:30:37.439530Z",
     "iopub.status.busy": "2021-11-17T14:30:37.438880Z",
     "iopub.status.idle": "2021-11-17T14:30:37.646245Z",
     "shell.execute_reply": "2021-11-17T14:30:37.645548Z",
     "shell.execute_reply.started": "2021-11-16T11:50:54.248235Z"
    },
    "papermill": {
     "duration": 0.240178,
     "end_time": "2021-11-17T14:30:37.646403",
     "exception": false,
     "start_time": "2021-11-17T14:30:37.406225",
     "status": "completed"
    },
    "tags": []
   },
   "outputs": [
    {
     "data": {
      "text/html": [
       "<div>\n",
       "<style scoped>\n",
       "    .dataframe tbody tr th:only-of-type {\n",
       "        vertical-align: middle;\n",
       "    }\n",
       "\n",
       "    .dataframe tbody tr th {\n",
       "        vertical-align: top;\n",
       "    }\n",
       "\n",
       "    .dataframe thead th {\n",
       "        text-align: right;\n",
       "    }\n",
       "</style>\n",
       "<table border=\"1\" class=\"dataframe\">\n",
       "  <thead>\n",
       "    <tr style=\"text-align: right;\">\n",
       "      <th></th>\n",
       "      <th>Kahjusumma</th>\n",
       "      <th>Lest_X</th>\n",
       "      <th>Lest_Y</th>\n",
       "      <th>Long</th>\n",
       "      <th>Lat</th>\n",
       "      <th>min_y</th>\n",
       "      <th>max_y</th>\n",
       "      <th>min_x</th>\n",
       "      <th>max_x</th>\n",
       "      <th>geometry</th>\n",
       "      <th>Kahjusumma_min</th>\n",
       "      <th>Kahjusumma_max</th>\n",
       "      <th>Kahjusumma_med</th>\n",
       "    </tr>\n",
       "  </thead>\n",
       "  <tbody>\n",
       "    <tr>\n",
       "      <th>0</th>\n",
       "      <td>0-499</td>\n",
       "      <td>6474000-6474499</td>\n",
       "      <td>658500-658999</td>\n",
       "      <td>[6474000, 6474499]</td>\n",
       "      <td>[658500, 658999]</td>\n",
       "      <td>6474000.0</td>\n",
       "      <td>6474499.0</td>\n",
       "      <td>658500.0</td>\n",
       "      <td>658999.0</td>\n",
       "      <td>POLYGON ((658999 6474000, 658999 6474499, 6585...</td>\n",
       "      <td>0.0</td>\n",
       "      <td>499.0</td>\n",
       "      <td>249.5</td>\n",
       "    </tr>\n",
       "    <tr>\n",
       "      <th>1</th>\n",
       "      <td>0-499</td>\n",
       "      <td>6589000-6589499</td>\n",
       "      <td>542000-542499</td>\n",
       "      <td>[6589000, 6589499]</td>\n",
       "      <td>[542000, 542499]</td>\n",
       "      <td>6589000.0</td>\n",
       "      <td>6589499.0</td>\n",
       "      <td>542000.0</td>\n",
       "      <td>542499.0</td>\n",
       "      <td>POLYGON ((542499 6589000, 542499 6589499, 5420...</td>\n",
       "      <td>0.0</td>\n",
       "      <td>499.0</td>\n",
       "      <td>249.5</td>\n",
       "    </tr>\n",
       "    <tr>\n",
       "      <th>2</th>\n",
       "      <td>0-499</td>\n",
       "      <td>6588000-6588499</td>\n",
       "      <td>540000-540499</td>\n",
       "      <td>[6588000, 6588499]</td>\n",
       "      <td>[540000, 540499]</td>\n",
       "      <td>6588000.0</td>\n",
       "      <td>6588499.0</td>\n",
       "      <td>540000.0</td>\n",
       "      <td>540499.0</td>\n",
       "      <td>POLYGON ((540499 6588000, 540499 6588499, 5400...</td>\n",
       "      <td>0.0</td>\n",
       "      <td>499.0</td>\n",
       "      <td>249.5</td>\n",
       "    </tr>\n",
       "    <tr>\n",
       "      <th>3</th>\n",
       "      <td>500-4999</td>\n",
       "      <td>6588000-6588499</td>\n",
       "      <td>542000-542499</td>\n",
       "      <td>[6588000, 6588499]</td>\n",
       "      <td>[542000, 542499]</td>\n",
       "      <td>6588000.0</td>\n",
       "      <td>6588499.0</td>\n",
       "      <td>542000.0</td>\n",
       "      <td>542499.0</td>\n",
       "      <td>POLYGON ((542499 6588000, 542499 6588499, 5420...</td>\n",
       "      <td>500.0</td>\n",
       "      <td>4999.0</td>\n",
       "      <td>2249.5</td>\n",
       "    </tr>\n",
       "    <tr>\n",
       "      <th>4</th>\n",
       "      <td>0-499</td>\n",
       "      <td>6588500-6588999</td>\n",
       "      <td>542000-542499</td>\n",
       "      <td>[6588500, 6588999]</td>\n",
       "      <td>[542000, 542499]</td>\n",
       "      <td>6588500.0</td>\n",
       "      <td>6588999.0</td>\n",
       "      <td>542000.0</td>\n",
       "      <td>542499.0</td>\n",
       "      <td>POLYGON ((542499 6588500, 542499 6588999, 5420...</td>\n",
       "      <td>0.0</td>\n",
       "      <td>499.0</td>\n",
       "      <td>249.5</td>\n",
       "    </tr>\n",
       "  </tbody>\n",
       "</table>\n",
       "</div>"
      ],
      "text/plain": [
       "  Kahjusumma           Lest_X         Lest_Y                Long  \\\n",
       "0      0-499  6474000-6474499  658500-658999  [6474000, 6474499]   \n",
       "1      0-499  6589000-6589499  542000-542499  [6589000, 6589499]   \n",
       "2      0-499  6588000-6588499  540000-540499  [6588000, 6588499]   \n",
       "3   500-4999  6588000-6588499  542000-542499  [6588000, 6588499]   \n",
       "4      0-499  6588500-6588999  542000-542499  [6588500, 6588999]   \n",
       "\n",
       "                Lat      min_y      max_y     min_x     max_x  \\\n",
       "0  [658500, 658999]  6474000.0  6474499.0  658500.0  658999.0   \n",
       "1  [542000, 542499]  6589000.0  6589499.0  542000.0  542499.0   \n",
       "2  [540000, 540499]  6588000.0  6588499.0  540000.0  540499.0   \n",
       "3  [542000, 542499]  6588000.0  6588499.0  542000.0  542499.0   \n",
       "4  [542000, 542499]  6588500.0  6588999.0  542000.0  542499.0   \n",
       "\n",
       "                                            geometry  Kahjusumma_min  \\\n",
       "0  POLYGON ((658999 6474000, 658999 6474499, 6585...             0.0   \n",
       "1  POLYGON ((542499 6589000, 542499 6589499, 5420...             0.0   \n",
       "2  POLYGON ((540499 6588000, 540499 6588499, 5400...             0.0   \n",
       "3  POLYGON ((542499 6588000, 542499 6588499, 5420...           500.0   \n",
       "4  POLYGON ((542499 6588500, 542499 6588999, 5420...             0.0   \n",
       "\n",
       "   Kahjusumma_max  Kahjusumma_med  \n",
       "0           499.0           249.5  \n",
       "1           499.0           249.5  \n",
       "2           499.0           249.5  \n",
       "3          4999.0          2249.5  \n",
       "4           499.0           249.5  "
      ]
     },
     "execution_count": 8,
     "metadata": {},
     "output_type": "execute_result"
    }
   ],
   "source": [
    "df[['Kahjusumma_min', 'Kahjusumma_max']] = df['Kahjusumma'].str.split('-', expand=True)\n",
    "df['Kahjusumma_min'] = pd.to_numeric(df['Kahjusumma_min'], errors='coerce')\n",
    "df['Kahjusumma_max'] = pd.to_numeric(df['Kahjusumma_max'], errors='coerce')\n",
    "\n",
    "df['Kahjusumma_med'] = (df['Kahjusumma_max']-df['Kahjusumma_min'])/2\n",
    "df.head()\n",
    "\n"
   ]
  },
  {
   "cell_type": "code",
   "execution_count": 9,
   "id": "8fbc512a",
   "metadata": {
    "execution": {
     "iopub.execute_input": "2021-11-17T14:30:37.694637Z",
     "iopub.status.busy": "2021-11-17T14:30:37.693952Z",
     "iopub.status.idle": "2021-11-17T14:30:37.698648Z",
     "shell.execute_reply": "2021-11-17T14:30:37.699300Z",
     "shell.execute_reply.started": "2021-11-16T11:50:54.455218Z"
    },
    "papermill": {
     "duration": 0.030263,
     "end_time": "2021-11-17T14:30:37.699514",
     "exception": false,
     "start_time": "2021-11-17T14:30:37.669251",
     "status": "completed"
    },
    "tags": []
   },
   "outputs": [
    {
     "data": {
      "text/plain": [
       "(51356, 13)"
      ]
     },
     "execution_count": 9,
     "metadata": {},
     "output_type": "execute_result"
    }
   ],
   "source": [
    "df.shape"
   ]
  },
  {
   "cell_type": "markdown",
   "id": "c4187077",
   "metadata": {
    "papermill": {
     "duration": 0.021846,
     "end_time": "2021-11-17T14:30:37.744055",
     "exception": false,
     "start_time": "2021-11-17T14:30:37.722209",
     "status": "completed"
    },
    "tags": []
   },
   "source": [
    "**Merging same polygon and aggregate the value by it's mean**"
   ]
  },
  {
   "cell_type": "code",
   "execution_count": 10,
   "id": "70ddbd16",
   "metadata": {
    "execution": {
     "iopub.execute_input": "2021-11-17T14:30:37.793381Z",
     "iopub.status.busy": "2021-11-17T14:30:37.792769Z",
     "iopub.status.idle": "2021-11-17T14:30:39.654339Z",
     "shell.execute_reply": "2021-11-17T14:30:39.653769Z",
     "shell.execute_reply.started": "2021-11-16T11:50:54.462086Z"
    },
    "papermill": {
     "duration": 1.888325,
     "end_time": "2021-11-17T14:30:39.654510",
     "exception": false,
     "start_time": "2021-11-17T14:30:37.766185",
     "status": "completed"
    },
    "tags": []
   },
   "outputs": [],
   "source": [
    "df = df[['Kahjusumma_med','geometry']]\n",
    "df['geometry'] = df['geometry'].apply(lambda geom: geom.wkt)\n",
    "df = df.groupby(by='geometry', as_index=False).mean()\n",
    "df['geometry'] = df['geometry'].apply(lambda x: shapely.wkt.loads(x))\n",
    "\n"
   ]
  },
  {
   "cell_type": "code",
   "execution_count": 11,
   "id": "b1659d8e",
   "metadata": {
    "execution": {
     "iopub.execute_input": "2021-11-17T14:30:39.706067Z",
     "iopub.status.busy": "2021-11-17T14:30:39.705369Z",
     "iopub.status.idle": "2021-11-17T14:30:39.707910Z",
     "shell.execute_reply": "2021-11-17T14:30:39.708394Z",
     "shell.execute_reply.started": "2021-11-16T11:50:56.292435Z"
    },
    "papermill": {
     "duration": 0.031716,
     "end_time": "2021-11-17T14:30:39.708594",
     "exception": false,
     "start_time": "2021-11-17T14:30:39.676878",
     "status": "completed"
    },
    "tags": []
   },
   "outputs": [
    {
     "data": {
      "text/plain": [
       "(2232, 2)"
      ]
     },
     "execution_count": 11,
     "metadata": {},
     "output_type": "execute_result"
    }
   ],
   "source": [
    "df.shape"
   ]
  },
  {
   "cell_type": "code",
   "execution_count": 12,
   "id": "7ae9de29",
   "metadata": {
    "execution": {
     "iopub.execute_input": "2021-11-17T14:30:39.760545Z",
     "iopub.status.busy": "2021-11-17T14:30:39.759603Z",
     "iopub.status.idle": "2021-11-17T14:30:39.762990Z",
     "shell.execute_reply": "2021-11-17T14:30:39.763500Z",
     "shell.execute_reply.started": "2021-11-16T11:50:56.29937Z"
    },
    "papermill": {
     "duration": 0.032962,
     "end_time": "2021-11-17T14:30:39.763708",
     "exception": false,
     "start_time": "2021-11-17T14:30:39.730746",
     "status": "completed"
    },
    "tags": []
   },
   "outputs": [
    {
     "data": {
      "text/plain": [
       "249.5"
      ]
     },
     "execution_count": 12,
     "metadata": {},
     "output_type": "execute_result"
    }
   ],
   "source": [
    "df['Kahjusumma_med'].min()\n"
   ]
  },
  {
   "cell_type": "code",
   "execution_count": 13,
   "id": "beefddad",
   "metadata": {
    "execution": {
     "iopub.execute_input": "2021-11-17T14:30:39.813440Z",
     "iopub.status.busy": "2021-11-17T14:30:39.812524Z",
     "iopub.status.idle": "2021-11-17T14:30:39.817958Z",
     "shell.execute_reply": "2021-11-17T14:30:39.818411Z",
     "shell.execute_reply.started": "2021-11-16T11:50:56.313093Z"
    },
    "papermill": {
     "duration": 0.031913,
     "end_time": "2021-11-17T14:30:39.818625",
     "exception": false,
     "start_time": "2021-11-17T14:30:39.786712",
     "status": "completed"
    },
    "tags": []
   },
   "outputs": [
    {
     "data": {
      "text/plain": [
       "22499.5"
      ]
     },
     "execution_count": 13,
     "metadata": {},
     "output_type": "execute_result"
    }
   ],
   "source": [
    "df['Kahjusumma_med'].max()"
   ]
  },
  {
   "cell_type": "markdown",
   "id": "9b44c272",
   "metadata": {
    "papermill": {
     "duration": 0.022606,
     "end_time": "2021-11-17T14:30:39.864152",
     "exception": false,
     "start_time": "2021-11-17T14:30:39.841546",
     "status": "completed"
    },
    "tags": []
   },
   "source": [
    "**merge the original file that contain box polygon with Estonia map (county boundary)**"
   ]
  },
  {
   "cell_type": "code",
   "execution_count": 14,
   "id": "886b5048",
   "metadata": {
    "execution": {
     "iopub.execute_input": "2021-11-17T14:30:39.967727Z",
     "iopub.status.busy": "2021-11-17T14:30:39.966890Z",
     "iopub.status.idle": "2021-11-17T14:30:45.445157Z",
     "shell.execute_reply": "2021-11-17T14:30:45.445669Z",
     "shell.execute_reply.started": "2021-11-16T11:50:56.324969Z"
    },
    "papermill": {
     "duration": 5.558151,
     "end_time": "2021-11-17T14:30:45.445899",
     "exception": false,
     "start_time": "2021-11-17T14:30:39.887748",
     "status": "completed"
    },
    "tags": []
   },
   "outputs": [
    {
     "data": {
      "image/png": "[encoded data removed]",
      "text/plain": [
       "<Figure size 2160x1440 with 2 Axes>"
      ]
     },
     "metadata": {
      "needs_background": "light"
     },
     "output_type": "display_data"
    }
   ],
   "source": [
    "gdf1 = gpd.GeoDataFrame(df, crs=3301, geometry=df['geometry'])\n",
    "gdf2 = gpd.read_file('../input/crime-data-estonia/maakond_20211001.shp')\n",
    "gdf2 = gdf2['geometry']\n",
    "gdf2.to_crs(epsg=3301)\n",
    "\n",
    "axes = gdf2.plot(facecolor='none', linestyle='-', linewidth=0.25, edgecolor='k', figsize=(30,20))\n",
    "fig = gdf1.plot('Kahjusumma_med', cmap='Wistia', edgecolor=None, vmin=249.5, vmax=22499.5, legend=True, figsize=(30,20), ax=axes)\n",
    "axes.figure.savefig('image.jpg')"
   ]
  },
  {
   "cell_type": "markdown",
   "id": "316de94a",
   "metadata": {
    "papermill": {
     "duration": 0.028869,
     "end_time": "2021-11-17T14:30:45.503753",
     "exception": false,
     "start_time": "2021-11-17T14:30:45.474884",
     "status": "completed"
    },
    "tags": []
   },
   "source": [
    "As you can see most of the crime done in northern part of the country and near big city. The biggest crime damage done near capital city Tallin and Kohtla-Järve."
   ]
  }
 ],
 "metadata": {
  "kernelspec": {
   "display_name": "Python 3 (ipykernel)",
   "language": "python",
   "name": "python3"
  },
  "language_info": {
   "codemirror_mode": {
    "name": "ipython",
    "version": 3
   },
   "file_extension": ".py",
   "mimetype": "text/x-python",
   "name": "python",
   "nbconvert_exporter": "python",
   "pygments_lexer": "ipython3",
   "version": "3.9.2"
  },
  "papermill": {
   "default_parameters": {},
   "duration": 27.134151,
   "end_time": "2021-11-17T14:30:46.646042",
   "environment_variables": {},
   "exception": null,
   "input_path": "__notebook__.ipynb",
   "output_path": "__notebook__.ipynb",
   "parameters": {},
   "start_time": "2021-11-17T14:30:19.511891",
   "version": "2.3.3"
  }
 },
 "nbformat": 4,
 "nbformat_minor": 5
}
